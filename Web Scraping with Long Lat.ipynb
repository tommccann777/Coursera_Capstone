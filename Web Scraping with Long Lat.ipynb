{
    "nbformat_minor": 1, 
    "cells": [
        {
            "source": "# Web Scraping with Longitude and Latitude", 
            "cell_type": "markdown", 
            "metadata": {
                "collapsed": true
            }
        }, 
        {
            "source": "### Set up environment - install libraries and imports", 
            "cell_type": "markdown", 
            "metadata": {}
        }, 
        {
            "source": "# !pip install --user beautifulsoup4\n\nfrom bs4 import BeautifulSoup\nimport requests\nimport pandas as pd", 
            "cell_type": "code", 
            "metadata": {}, 
            "outputs": [], 
            "execution_count": 3
        }, 
        {
            "source": "### Read the webpage and select the table rows", 
            "cell_type": "markdown", 
            "metadata": {}
        }, 
        {
            "source": "r  = requests.get(\"https://en.wikipedia.org/wiki/List_of_postal_codes_of_Canada:_M\")\ndata = r.text\n\nsoup = BeautifulSoup(data, 'lxml')\n\ntable = soup.find(\"table\", {\"class\" : \"wikitable sortable\"})\n\ntable_rows = table.find_all('tr')", 
            "cell_type": "code", 
            "metadata": {}, 
            "outputs": [], 
            "execution_count": 4
        }, 
        {
            "source": "### Define a function for adding row data to a dictionary", 
            "cell_type": "markdown", 
            "metadata": {}
        }, 
        {
            "source": "# function for adding a row list to the pbn (postalcode-borough-neighbourhood) dictionary\ndef add_to_pbndict(row):\n    p = row[0]\n    b = row[1]\n    n = row[2]\n    \n    if b != 'Not assigned':  # don't add an unassigned borough\n        # Use borough if neighbourhood is 'Not assigned'\n        if n == 'Not assigned':\n            n = b # Use value of borough instead\n            \n        # add or update the dictionary    \n        if p in pbndict:\n            # Postalcode p already in dictionary and will be updated\n            pbndict[p] = {\"Borough\": b, \"Neighbourhood\": pbndict[p]['Neighbourhood'] + \", \" + n}\n        else:\n            # Postalcode p is not in dictionary and will be added\n            pbndict[p] = {\"Borough\": b, \"Neighbourhood\": n}", 
            "cell_type": "code", 
            "metadata": {}, 
            "outputs": [], 
            "execution_count": 5
        }, 
        {
            "source": "### Add the html table row data to the dictionary", 
            "cell_type": "markdown", 
            "metadata": {}
        }, 
        {
            "source": "# iterate the table rows and add to the pbn (postalcode borough neighbourhood) dictionary\npbndict = {}\n\nfor tr in table_rows:\n    tds = tr.find_all('td')\n    row = [td.text.strip() for td in tds]  # strip() seems to remove the newline\n    if row:  # removes empty row (the table headings)\n        add_to_pbndict(row)", 
            "cell_type": "code", 
            "metadata": {}, 
            "outputs": [], 
            "execution_count": 6
        }, 
        {
            "source": "### Copy the pbn (postalcode borough neighbourhood) dictionary contents to the DataFrame", 
            "cell_type": "markdown", 
            "metadata": {}
        }, 
        {
            "source": "# Create the datatable\ndf = pd.DataFrame(columns=['PostalCode', 'Borough', 'Neighbourhood'])\n\n# Add the contents of the dictionary\nfor key in pbndict:\n    df.loc[len(df)] = [key, pbndict[key]['Borough'], pbndict[key]['Neighbourhood']]", 
            "cell_type": "code", 
            "metadata": {}, 
            "outputs": [], 
            "execution_count": 7
        }, 
        {
            "source": "# * * * Add Longitude and Latitude * * *", 
            "cell_type": "markdown", 
            "metadata": {}
        }, 
        {
            "source": "# This is the DataFrame we created at the end of the first part of the assignment\ndf.head()", 
            "cell_type": "code", 
            "metadata": {}, 
            "outputs": [
                {
                    "output_type": "execute_result", 
                    "data": {
                        "text/plain": "  PostalCode           Borough                   Neighbourhood\n0        M9A         Etobicoke                Islington Avenue\n1        M4H         East York                Thorncliffe Park\n2        M9L        North York                   Humber Summit\n3        M9W         Etobicoke                       Northwest\n4        M5S  Downtown Toronto  Harbord, University of Toronto", 
                        "text/html": "<div>\n<style scoped>\n    .dataframe tbody tr th:only-of-type {\n        vertical-align: middle;\n    }\n\n    .dataframe tbody tr th {\n        vertical-align: top;\n    }\n\n    .dataframe thead th {\n        text-align: right;\n    }\n</style>\n<table border=\"1\" class=\"dataframe\">\n  <thead>\n    <tr style=\"text-align: right;\">\n      <th></th>\n      <th>PostalCode</th>\n      <th>Borough</th>\n      <th>Neighbourhood</th>\n    </tr>\n  </thead>\n  <tbody>\n    <tr>\n      <th>0</th>\n      <td>M9A</td>\n      <td>Etobicoke</td>\n      <td>Islington Avenue</td>\n    </tr>\n    <tr>\n      <th>1</th>\n      <td>M4H</td>\n      <td>East York</td>\n      <td>Thorncliffe Park</td>\n    </tr>\n    <tr>\n      <th>2</th>\n      <td>M9L</td>\n      <td>North York</td>\n      <td>Humber Summit</td>\n    </tr>\n    <tr>\n      <th>3</th>\n      <td>M9W</td>\n      <td>Etobicoke</td>\n      <td>Northwest</td>\n    </tr>\n    <tr>\n      <th>4</th>\n      <td>M5S</td>\n      <td>Downtown Toronto</td>\n      <td>Harbord, University of Toronto</td>\n    </tr>\n  </tbody>\n</table>\n</div>"
                    }, 
                    "execution_count": 8, 
                    "metadata": {}
                }
            ], 
            "execution_count": 8
        }, 
        {
            "source": "### Read the Geospatial_Coordinates.csv file", 
            "cell_type": "markdown", 
            "metadata": {}
        }, 
        {
            "source": "# Template code for accessing a data file in the IBM Watson Studio environment\n# For security I have redacted my credentials from the code below\n\nimport sys\nimport types\nimport pandas as pd\nfrom botocore.client import Config\nimport ibm_boto3\n\ndef __iter__(self): return 0\n\n# @hidden_cell\n# The following code accesses a file in your IBM Cloud Object Storage. It includes your credentials.\n# You might want to remove those credentials before you share your notebook.\nclient = ibm_boto3.client(service_name='s3',\n    ibm_api_key_id='redacted',\n    ibm_auth_endpoint=\"https://iam.ng.bluemix.net/oidc/token\",\n    config=Config(signature_version='oauth'),\n    endpoint_url='https://s3-api.us-geo.objectstorage.service.networklayer.com')\n\nbody = client.get_object(Bucket='courseacapstone-donotdelete-pr-62ipahmxygi73y',Key='Geospatial_Coordinates.csv')['Body']\n# add missing __iter__ method, so pandas accepts body as file-like object\nif not hasattr(body, \"__iter__\"): body.__iter__ = types.MethodType( __iter__, body )\n\ndf_geo = pd.read_csv(body)\ndf_geo.head()", 
            "cell_type": "code", 
            "metadata": {}, 
            "outputs": [
                {
                    "output_type": "execute_result", 
                    "data": {
                        "text/plain": "  Postal Code   Latitude  Longitude\n0         M1B  43.806686 -79.194353\n1         M1C  43.784535 -79.160497\n2         M1E  43.763573 -79.188711\n3         M1G  43.770992 -79.216917\n4         M1H  43.773136 -79.239476", 
                        "text/html": "<div>\n<style scoped>\n    .dataframe tbody tr th:only-of-type {\n        vertical-align: middle;\n    }\n\n    .dataframe tbody tr th {\n        vertical-align: top;\n    }\n\n    .dataframe thead th {\n        text-align: right;\n    }\n</style>\n<table border=\"1\" class=\"dataframe\">\n  <thead>\n    <tr style=\"text-align: right;\">\n      <th></th>\n      <th>Postal Code</th>\n      <th>Latitude</th>\n      <th>Longitude</th>\n    </tr>\n  </thead>\n  <tbody>\n    <tr>\n      <th>0</th>\n      <td>M1B</td>\n      <td>43.806686</td>\n      <td>-79.194353</td>\n    </tr>\n    <tr>\n      <th>1</th>\n      <td>M1C</td>\n      <td>43.784535</td>\n      <td>-79.160497</td>\n    </tr>\n    <tr>\n      <th>2</th>\n      <td>M1E</td>\n      <td>43.763573</td>\n      <td>-79.188711</td>\n    </tr>\n    <tr>\n      <th>3</th>\n      <td>M1G</td>\n      <td>43.770992</td>\n      <td>-79.216917</td>\n    </tr>\n    <tr>\n      <th>4</th>\n      <td>M1H</td>\n      <td>43.773136</td>\n      <td>-79.239476</td>\n    </tr>\n  </tbody>\n</table>\n</div>"
                    }, 
                    "execution_count": 46, 
                    "metadata": {}
                }
            ], 
            "execution_count": 46
        }, 
        {
            "source": "### To enable merging the 2 DataFrames, rename the Postal Code column to be consistent", 
            "cell_type": "markdown", 
            "metadata": {}
        }, 
        {
            "source": "# Rename the postalcode column name in df_data_1\ndf_geo.rename(columns={'Postal Code':'PostalCode'}, inplace=True)\ndf_geo.head()", 
            "cell_type": "code", 
            "metadata": {}, 
            "outputs": [
                {
                    "output_type": "execute_result", 
                    "data": {
                        "text/plain": "  PostalCode   Latitude  Longitude\n0        M1B  43.806686 -79.194353\n1        M1C  43.784535 -79.160497\n2        M1E  43.763573 -79.188711\n3        M1G  43.770992 -79.216917\n4        M1H  43.773136 -79.239476", 
                        "text/html": "<div>\n<style scoped>\n    .dataframe tbody tr th:only-of-type {\n        vertical-align: middle;\n    }\n\n    .dataframe tbody tr th {\n        vertical-align: top;\n    }\n\n    .dataframe thead th {\n        text-align: right;\n    }\n</style>\n<table border=\"1\" class=\"dataframe\">\n  <thead>\n    <tr style=\"text-align: right;\">\n      <th></th>\n      <th>PostalCode</th>\n      <th>Latitude</th>\n      <th>Longitude</th>\n    </tr>\n  </thead>\n  <tbody>\n    <tr>\n      <th>0</th>\n      <td>M1B</td>\n      <td>43.806686</td>\n      <td>-79.194353</td>\n    </tr>\n    <tr>\n      <th>1</th>\n      <td>M1C</td>\n      <td>43.784535</td>\n      <td>-79.160497</td>\n    </tr>\n    <tr>\n      <th>2</th>\n      <td>M1E</td>\n      <td>43.763573</td>\n      <td>-79.188711</td>\n    </tr>\n    <tr>\n      <th>3</th>\n      <td>M1G</td>\n      <td>43.770992</td>\n      <td>-79.216917</td>\n    </tr>\n    <tr>\n      <th>4</th>\n      <td>M1H</td>\n      <td>43.773136</td>\n      <td>-79.239476</td>\n    </tr>\n  </tbody>\n</table>\n</div>"
                    }, 
                    "execution_count": 47, 
                    "metadata": {}
                }
            ], 
            "execution_count": 47
        }, 
        {
            "source": "### Merge the dataframes on matching PostalCode", 
            "cell_type": "markdown", 
            "metadata": {}
        }, 
        {
            "source": "result = df.merge(df_geo, how='left', on=['PostalCode'])\nresult", 
            "cell_type": "code", 
            "metadata": {}, 
            "outputs": [
                {
                    "output_type": "execute_result", 
                    "data": {
                        "text/plain": "    PostalCode           Borough  \\\n0          M9A         Etobicoke   \n1          M4H         East York   \n2          M9L        North York   \n3          M9W         Etobicoke   \n4          M5S  Downtown Toronto   \n5          M3J        North York   \n6          M2H        North York   \n7          M8Y         Etobicoke   \n8          M6C              York   \n9          M6L        North York   \n10         M3H        North York   \n11         M7A      Queen's Park   \n12         M6A        North York   \n13         M6S      West Toronto   \n14         M3M        North York   \n15         M3N        North York   \n16         M1M       Scarborough   \n17         M4W  Downtown Toronto   \n18         M9R         Etobicoke   \n19         M2N        North York   \n20         M9V         Etobicoke   \n21         M4Y  Downtown Toronto   \n22         M5L  Downtown Toronto   \n23         M5A  Downtown Toronto   \n24         M1J       Scarborough   \n25         M1L       Scarborough   \n26         M4V   Central Toronto   \n27         M1K       Scarborough   \n28         M8X         Etobicoke   \n29         M4C         East York   \n..         ...               ...   \n73         M3L        North York   \n74         M6K      West Toronto   \n75         M1C       Scarborough   \n76         M6P      West Toronto   \n77         M1R       Scarborough   \n78         M3A        North York   \n79         M1V       Scarborough   \n80         M1G       Scarborough   \n81         M9P         Etobicoke   \n82         M2R        North York   \n83         M2P        North York   \n84         M1N       Scarborough   \n85         M1S       Scarborough   \n86         M9B         Etobicoke   \n87         M6J      West Toronto   \n88         M8Z         Etobicoke   \n89         M5N   Central Toronto   \n90         M6G  Downtown Toronto   \n91         M1X       Scarborough   \n92         M3C        North York   \n93         M6B        North York   \n94         M6E              York   \n95         M1E       Scarborough   \n96         M1H       Scarborough   \n97         M5G  Downtown Toronto   \n98         M5H  Downtown Toronto   \n99         M9M        North York   \n100        M1P       Scarborough   \n101        M4G         East York   \n102        M8W         Etobicoke   \n\n                                         Neighbourhood   Latitude  Longitude  \n0                                     Islington Avenue  43.667856 -79.532242  \n1                                     Thorncliffe Park  43.705369 -79.349372  \n2                                        Humber Summit  43.756303 -79.565963  \n3                                            Northwest  43.706748 -79.594054  \n4                       Harbord, University of Toronto  43.662696 -79.400049  \n5                      Northwood Park, York University  43.767980 -79.487262  \n6                                    Hillcrest Village  43.803762 -79.363452  \n7    Humber Bay, King's Mill Park, Kingsway Park So...  43.636258 -79.498509  \n8                                   Humewood-Cedarvale  43.693781 -79.428191  \n9             Maple Leaf Park, North Park, Upwood Park  43.713756 -79.490074  \n10     Bathurst Manor, Downsview North, Wilson Heights  43.754328 -79.442259  \n11                                        Queen's Park  43.662301 -79.389494  \n12                    Lawrence Heights, Lawrence Manor  43.718518 -79.464763  \n13                                  Runnymede, Swansea  43.651571 -79.484450  \n14                                   Downsview Central  43.728496 -79.495697  \n15                                 Downsview Northwest  43.761631 -79.520999  \n16     Cliffcrest, Cliffside, Scarborough Village West  43.716316 -79.239476  \n17                                            Rosedale  43.679563 -79.377529  \n18   Kingsview Village, Martin Grove Gardens, Richv...  43.688905 -79.554724  \n19                                    Willowdale South  43.770120 -79.408493  \n20   Albion Gardens, Beaumond Heights, Humbergate, ...  43.739416 -79.588437  \n21                                Church and Wellesley  43.665860 -79.383160  \n22                      Commerce Court, Victoria Hotel  43.648198 -79.379817  \n23                           Harbourfront, Regent Park  43.654260 -79.360636  \n24                                 Scarborough Village  43.744734 -79.239476  \n25                     Clairlea, Golden Mile, Oakridge  43.711112 -79.284577  \n26   Deer Park, Forest Hill SE, Rathnelly, South Hi...  43.686412 -79.400049  \n27         East Birchmount Park, Ionview, Kennedy Park  43.727929 -79.262029  \n28       The Kingsway, Montgomery Road, Old Mill North  43.653654 -79.506944  \n29                                    Woodbine Heights  43.695344 -79.318389  \n..                                                 ...        ...        ...  \n73                                      Downsview West  43.739015 -79.506944  \n74        Brockton, Exhibition Place, Parkdale Village  43.636847 -79.428191  \n75              Highland Creek, Rouge Hill, Port Union  43.784535 -79.160497  \n76                       High Park, The Junction South  43.661608 -79.464763  \n77                                   Maryvale, Wexford  43.750072 -79.295849  \n78                                           Parkwoods  43.753259 -79.329656  \n79   Agincourt North, L'Amoreaux East, Milliken, St...  43.815252 -79.284577  \n80                                              Woburn  43.770992 -79.216917  \n81                                           Westmount  43.696319 -79.532242  \n82                                     Willowdale West  43.782736 -79.442259  \n83                                     York Mills West  43.752758 -79.400049  \n84                         Birch Cliff, Cliffside West  43.692657 -79.264848  \n85                                           Agincourt  43.794200 -79.262029  \n86   Cloverdale, Islington, Martin Grove, Princess ...  43.650943 -79.554724  \n87                            Little Portugal, Trinity  43.647927 -79.419750  \n88   Kingsway Park South West, Mimico NW, The Queen...  43.628841 -79.520999  \n89                                            Roselawn  43.711695 -79.416936  \n90                                            Christie  43.669542 -79.422564  \n91                                         Upper Rouge  43.836125 -79.205636  \n92                    Flemingdon Park, Don Mills South  43.725900 -79.340923  \n93                                           Glencairn  43.709577 -79.445073  \n94                                 Caledonia-Fairbanks  43.689026 -79.453512  \n95                   Guildwood, Morningside, West Hill  43.763573 -79.188711  \n96                                           Cedarbrae  43.773136 -79.239476  \n97                                  Central Bay Street  43.657952 -79.387383  \n98                            Adelaide, King, Richmond  43.650571 -79.384568  \n99                                    Emery, Humberlea  43.724766 -79.532242  \n100  Dorset Park, Scarborough Town Centre, Wexford ...  43.757410 -79.273304  \n101                                            Leaside  43.709060 -79.363452  \n102                             Alderwood, Long Branch  43.602414 -79.543484  \n\n[103 rows x 5 columns]", 
                        "text/html": "<div>\n<style scoped>\n    .dataframe tbody tr th:only-of-type {\n        vertical-align: middle;\n    }\n\n    .dataframe tbody tr th {\n        vertical-align: top;\n    }\n\n    .dataframe thead th {\n        text-align: right;\n    }\n</style>\n<table border=\"1\" class=\"dataframe\">\n  <thead>\n    <tr style=\"text-align: right;\">\n      <th></th>\n      <th>PostalCode</th>\n      <th>Borough</th>\n      <th>Neighbourhood</th>\n      <th>Latitude</th>\n      <th>Longitude</th>\n    </tr>\n  </thead>\n  <tbody>\n    <tr>\n      <th>0</th>\n      <td>M9A</td>\n      <td>Etobicoke</td>\n      <td>Islington Avenue</td>\n      <td>43.667856</td>\n      <td>-79.532242</td>\n    </tr>\n    <tr>\n      <th>1</th>\n      <td>M4H</td>\n      <td>East York</td>\n      <td>Thorncliffe Park</td>\n      <td>43.705369</td>\n      <td>-79.349372</td>\n    </tr>\n    <tr>\n      <th>2</th>\n      <td>M9L</td>\n      <td>North York</td>\n      <td>Humber Summit</td>\n      <td>43.756303</td>\n      <td>-79.565963</td>\n    </tr>\n    <tr>\n      <th>3</th>\n      <td>M9W</td>\n      <td>Etobicoke</td>\n      <td>Northwest</td>\n      <td>43.706748</td>\n      <td>-79.594054</td>\n    </tr>\n    <tr>\n      <th>4</th>\n      <td>M5S</td>\n      <td>Downtown Toronto</td>\n      <td>Harbord, University of Toronto</td>\n      <td>43.662696</td>\n      <td>-79.400049</td>\n    </tr>\n    <tr>\n      <th>5</th>\n      <td>M3J</td>\n      <td>North York</td>\n      <td>Northwood Park, York University</td>\n      <td>43.767980</td>\n      <td>-79.487262</td>\n    </tr>\n    <tr>\n      <th>6</th>\n      <td>M2H</td>\n      <td>North York</td>\n      <td>Hillcrest Village</td>\n      <td>43.803762</td>\n      <td>-79.363452</td>\n    </tr>\n    <tr>\n      <th>7</th>\n      <td>M8Y</td>\n      <td>Etobicoke</td>\n      <td>Humber Bay, King's Mill Park, Kingsway Park So...</td>\n      <td>43.636258</td>\n      <td>-79.498509</td>\n    </tr>\n    <tr>\n      <th>8</th>\n      <td>M6C</td>\n      <td>York</td>\n      <td>Humewood-Cedarvale</td>\n      <td>43.693781</td>\n      <td>-79.428191</td>\n    </tr>\n    <tr>\n      <th>9</th>\n      <td>M6L</td>\n      <td>North York</td>\n      <td>Maple Leaf Park, North Park, Upwood Park</td>\n      <td>43.713756</td>\n      <td>-79.490074</td>\n    </tr>\n    <tr>\n      <th>10</th>\n      <td>M3H</td>\n      <td>North York</td>\n      <td>Bathurst Manor, Downsview North, Wilson Heights</td>\n      <td>43.754328</td>\n      <td>-79.442259</td>\n    </tr>\n    <tr>\n      <th>11</th>\n      <td>M7A</td>\n      <td>Queen's Park</td>\n      <td>Queen's Park</td>\n      <td>43.662301</td>\n      <td>-79.389494</td>\n    </tr>\n    <tr>\n      <th>12</th>\n      <td>M6A</td>\n      <td>North York</td>\n      <td>Lawrence Heights, Lawrence Manor</td>\n      <td>43.718518</td>\n      <td>-79.464763</td>\n    </tr>\n    <tr>\n      <th>13</th>\n      <td>M6S</td>\n      <td>West Toronto</td>\n      <td>Runnymede, Swansea</td>\n      <td>43.651571</td>\n      <td>-79.484450</td>\n    </tr>\n    <tr>\n      <th>14</th>\n      <td>M3M</td>\n      <td>North York</td>\n      <td>Downsview Central</td>\n      <td>43.728496</td>\n      <td>-79.495697</td>\n    </tr>\n    <tr>\n      <th>15</th>\n      <td>M3N</td>\n      <td>North York</td>\n      <td>Downsview Northwest</td>\n      <td>43.761631</td>\n      <td>-79.520999</td>\n    </tr>\n    <tr>\n      <th>16</th>\n      <td>M1M</td>\n      <td>Scarborough</td>\n      <td>Cliffcrest, Cliffside, Scarborough Village West</td>\n      <td>43.716316</td>\n      <td>-79.239476</td>\n    </tr>\n    <tr>\n      <th>17</th>\n      <td>M4W</td>\n      <td>Downtown Toronto</td>\n      <td>Rosedale</td>\n      <td>43.679563</td>\n      <td>-79.377529</td>\n    </tr>\n    <tr>\n      <th>18</th>\n      <td>M9R</td>\n      <td>Etobicoke</td>\n      <td>Kingsview Village, Martin Grove Gardens, Richv...</td>\n      <td>43.688905</td>\n      <td>-79.554724</td>\n    </tr>\n    <tr>\n      <th>19</th>\n      <td>M2N</td>\n      <td>North York</td>\n      <td>Willowdale South</td>\n      <td>43.770120</td>\n      <td>-79.408493</td>\n    </tr>\n    <tr>\n      <th>20</th>\n      <td>M9V</td>\n      <td>Etobicoke</td>\n      <td>Albion Gardens, Beaumond Heights, Humbergate, ...</td>\n      <td>43.739416</td>\n      <td>-79.588437</td>\n    </tr>\n    <tr>\n      <th>21</th>\n      <td>M4Y</td>\n      <td>Downtown Toronto</td>\n      <td>Church and Wellesley</td>\n      <td>43.665860</td>\n      <td>-79.383160</td>\n    </tr>\n    <tr>\n      <th>22</th>\n      <td>M5L</td>\n      <td>Downtown Toronto</td>\n      <td>Commerce Court, Victoria Hotel</td>\n      <td>43.648198</td>\n      <td>-79.379817</td>\n    </tr>\n    <tr>\n      <th>23</th>\n      <td>M5A</td>\n      <td>Downtown Toronto</td>\n      <td>Harbourfront, Regent Park</td>\n      <td>43.654260</td>\n      <td>-79.360636</td>\n    </tr>\n    <tr>\n      <th>24</th>\n      <td>M1J</td>\n      <td>Scarborough</td>\n      <td>Scarborough Village</td>\n      <td>43.744734</td>\n      <td>-79.239476</td>\n    </tr>\n    <tr>\n      <th>25</th>\n      <td>M1L</td>\n      <td>Scarborough</td>\n      <td>Clairlea, Golden Mile, Oakridge</td>\n      <td>43.711112</td>\n      <td>-79.284577</td>\n    </tr>\n    <tr>\n      <th>26</th>\n      <td>M4V</td>\n      <td>Central Toronto</td>\n      <td>Deer Park, Forest Hill SE, Rathnelly, South Hi...</td>\n      <td>43.686412</td>\n      <td>-79.400049</td>\n    </tr>\n    <tr>\n      <th>27</th>\n      <td>M1K</td>\n      <td>Scarborough</td>\n      <td>East Birchmount Park, Ionview, Kennedy Park</td>\n      <td>43.727929</td>\n      <td>-79.262029</td>\n    </tr>\n    <tr>\n      <th>28</th>\n      <td>M8X</td>\n      <td>Etobicoke</td>\n      <td>The Kingsway, Montgomery Road, Old Mill North</td>\n      <td>43.653654</td>\n      <td>-79.506944</td>\n    </tr>\n    <tr>\n      <th>29</th>\n      <td>M4C</td>\n      <td>East York</td>\n      <td>Woodbine Heights</td>\n      <td>43.695344</td>\n      <td>-79.318389</td>\n    </tr>\n    <tr>\n      <th>...</th>\n      <td>...</td>\n      <td>...</td>\n      <td>...</td>\n      <td>...</td>\n      <td>...</td>\n    </tr>\n    <tr>\n      <th>73</th>\n      <td>M3L</td>\n      <td>North York</td>\n      <td>Downsview West</td>\n      <td>43.739015</td>\n      <td>-79.506944</td>\n    </tr>\n    <tr>\n      <th>74</th>\n      <td>M6K</td>\n      <td>West Toronto</td>\n      <td>Brockton, Exhibition Place, Parkdale Village</td>\n      <td>43.636847</td>\n      <td>-79.428191</td>\n    </tr>\n    <tr>\n      <th>75</th>\n      <td>M1C</td>\n      <td>Scarborough</td>\n      <td>Highland Creek, Rouge Hill, Port Union</td>\n      <td>43.784535</td>\n      <td>-79.160497</td>\n    </tr>\n    <tr>\n      <th>76</th>\n      <td>M6P</td>\n      <td>West Toronto</td>\n      <td>High Park, The Junction South</td>\n      <td>43.661608</td>\n      <td>-79.464763</td>\n    </tr>\n    <tr>\n      <th>77</th>\n      <td>M1R</td>\n      <td>Scarborough</td>\n      <td>Maryvale, Wexford</td>\n      <td>43.750072</td>\n      <td>-79.295849</td>\n    </tr>\n    <tr>\n      <th>78</th>\n      <td>M3A</td>\n      <td>North York</td>\n      <td>Parkwoods</td>\n      <td>43.753259</td>\n      <td>-79.329656</td>\n    </tr>\n    <tr>\n      <th>79</th>\n      <td>M1V</td>\n      <td>Scarborough</td>\n      <td>Agincourt North, L'Amoreaux East, Milliken, St...</td>\n      <td>43.815252</td>\n      <td>-79.284577</td>\n    </tr>\n    <tr>\n      <th>80</th>\n      <td>M1G</td>\n      <td>Scarborough</td>\n      <td>Woburn</td>\n      <td>43.770992</td>\n      <td>-79.216917</td>\n    </tr>\n    <tr>\n      <th>81</th>\n      <td>M9P</td>\n      <td>Etobicoke</td>\n      <td>Westmount</td>\n      <td>43.696319</td>\n      <td>-79.532242</td>\n    </tr>\n    <tr>\n      <th>82</th>\n      <td>M2R</td>\n      <td>North York</td>\n      <td>Willowdale West</td>\n      <td>43.782736</td>\n      <td>-79.442259</td>\n    </tr>\n    <tr>\n      <th>83</th>\n      <td>M2P</td>\n      <td>North York</td>\n      <td>York Mills West</td>\n      <td>43.752758</td>\n      <td>-79.400049</td>\n    </tr>\n    <tr>\n      <th>84</th>\n      <td>M1N</td>\n      <td>Scarborough</td>\n      <td>Birch Cliff, Cliffside West</td>\n      <td>43.692657</td>\n      <td>-79.264848</td>\n    </tr>\n    <tr>\n      <th>85</th>\n      <td>M1S</td>\n      <td>Scarborough</td>\n      <td>Agincourt</td>\n      <td>43.794200</td>\n      <td>-79.262029</td>\n    </tr>\n    <tr>\n      <th>86</th>\n      <td>M9B</td>\n      <td>Etobicoke</td>\n      <td>Cloverdale, Islington, Martin Grove, Princess ...</td>\n      <td>43.650943</td>\n      <td>-79.554724</td>\n    </tr>\n    <tr>\n      <th>87</th>\n      <td>M6J</td>\n      <td>West Toronto</td>\n      <td>Little Portugal, Trinity</td>\n      <td>43.647927</td>\n      <td>-79.419750</td>\n    </tr>\n    <tr>\n      <th>88</th>\n      <td>M8Z</td>\n      <td>Etobicoke</td>\n      <td>Kingsway Park South West, Mimico NW, The Queen...</td>\n      <td>43.628841</td>\n      <td>-79.520999</td>\n    </tr>\n    <tr>\n      <th>89</th>\n      <td>M5N</td>\n      <td>Central Toronto</td>\n      <td>Roselawn</td>\n      <td>43.711695</td>\n      <td>-79.416936</td>\n    </tr>\n    <tr>\n      <th>90</th>\n      <td>M6G</td>\n      <td>Downtown Toronto</td>\n      <td>Christie</td>\n      <td>43.669542</td>\n      <td>-79.422564</td>\n    </tr>\n    <tr>\n      <th>91</th>\n      <td>M1X</td>\n      <td>Scarborough</td>\n      <td>Upper Rouge</td>\n      <td>43.836125</td>\n      <td>-79.205636</td>\n    </tr>\n    <tr>\n      <th>92</th>\n      <td>M3C</td>\n      <td>North York</td>\n      <td>Flemingdon Park, Don Mills South</td>\n      <td>43.725900</td>\n      <td>-79.340923</td>\n    </tr>\n    <tr>\n      <th>93</th>\n      <td>M6B</td>\n      <td>North York</td>\n      <td>Glencairn</td>\n      <td>43.709577</td>\n      <td>-79.445073</td>\n    </tr>\n    <tr>\n      <th>94</th>\n      <td>M6E</td>\n      <td>York</td>\n      <td>Caledonia-Fairbanks</td>\n      <td>43.689026</td>\n      <td>-79.453512</td>\n    </tr>\n    <tr>\n      <th>95</th>\n      <td>M1E</td>\n      <td>Scarborough</td>\n      <td>Guildwood, Morningside, West Hill</td>\n      <td>43.763573</td>\n      <td>-79.188711</td>\n    </tr>\n    <tr>\n      <th>96</th>\n      <td>M1H</td>\n      <td>Scarborough</td>\n      <td>Cedarbrae</td>\n      <td>43.773136</td>\n      <td>-79.239476</td>\n    </tr>\n    <tr>\n      <th>97</th>\n      <td>M5G</td>\n      <td>Downtown Toronto</td>\n      <td>Central Bay Street</td>\n      <td>43.657952</td>\n      <td>-79.387383</td>\n    </tr>\n    <tr>\n      <th>98</th>\n      <td>M5H</td>\n      <td>Downtown Toronto</td>\n      <td>Adelaide, King, Richmond</td>\n      <td>43.650571</td>\n      <td>-79.384568</td>\n    </tr>\n    <tr>\n      <th>99</th>\n      <td>M9M</td>\n      <td>North York</td>\n      <td>Emery, Humberlea</td>\n      <td>43.724766</td>\n      <td>-79.532242</td>\n    </tr>\n    <tr>\n      <th>100</th>\n      <td>M1P</td>\n      <td>Scarborough</td>\n      <td>Dorset Park, Scarborough Town Centre, Wexford ...</td>\n      <td>43.757410</td>\n      <td>-79.273304</td>\n    </tr>\n    <tr>\n      <th>101</th>\n      <td>M4G</td>\n      <td>East York</td>\n      <td>Leaside</td>\n      <td>43.709060</td>\n      <td>-79.363452</td>\n    </tr>\n    <tr>\n      <th>102</th>\n      <td>M8W</td>\n      <td>Etobicoke</td>\n      <td>Alderwood, Long Branch</td>\n      <td>43.602414</td>\n      <td>-79.543484</td>\n    </tr>\n  </tbody>\n</table>\n<p>103 rows \u00d7 5 columns</p>\n</div>"
                    }, 
                    "execution_count": 48, 
                    "metadata": {}
                }
            ], 
            "execution_count": 48
        }
    ], 
    "metadata": {
        "kernelspec": {
            "display_name": "Python 3.5 with Spark 2.1", 
            "name": "python3-spark21", 
            "language": "python"
        }, 
        "language_info": {
            "mimetype": "text/x-python", 
            "nbconvert_exporter": "python", 
            "version": "3.5.4", 
            "name": "python", 
            "pygments_lexer": "ipython3", 
            "file_extension": ".py", 
            "codemirror_mode": {
                "version": 3, 
                "name": "ipython"
            }
        }
    }, 
    "nbformat": 4
}