{
 "cells": [
  {
   "cell_type": "markdown",
   "metadata": {},
   "source": [
    "# Get London Neighborhood data"
   ]
  },
  {
   "cell_type": "markdown",
   "metadata": {},
   "source": [
    "### Required libraries"
   ]
  },
  {
   "cell_type": "code",
   "execution_count": 1,
   "metadata": {},
   "outputs": [
    {
     "name": "stdout",
     "output_type": "stream",
     "text": [
      "Solving environment: done\n",
      "\n",
      "## Package Plan ##\n",
      "\n",
      "  environment location: /home/jupyterlab/conda\n",
      "\n",
      "  added / updated specs: \n",
      "    - geopy\n",
      "\n",
      "\n",
      "The following packages will be downloaded:\n",
      "\n",
      "    package                    |            build\n",
      "    ---------------------------|-----------------\n",
      "    openssl-1.0.2p             |       h470a237_1         3.1 MB  conda-forge\n",
      "    certifi-2018.10.15         |        py36_1000         138 KB  conda-forge\n",
      "    geopy-1.17.0               |             py_0          49 KB  conda-forge\n",
      "    ca-certificates-2018.10.15 |       ha4d7672_0         135 KB  conda-forge\n",
      "    conda-4.5.11               |        py36_1000         651 KB  conda-forge\n",
      "    geographiclib-1.49         |             py_0          32 KB  conda-forge\n",
      "    ------------------------------------------------------------\n",
      "                                           Total:         4.1 MB\n",
      "\n",
      "The following NEW packages will be INSTALLED:\n",
      "\n",
      "    geographiclib:   1.49-py_0            conda-forge\n",
      "    geopy:           1.17.0-py_0          conda-forge\n",
      "\n",
      "The following packages will be UPDATED:\n",
      "\n",
      "    ca-certificates: 2018.8.24-ha4d7672_0 conda-forge --> 2018.10.15-ha4d7672_0 conda-forge\n",
      "    certifi:         2018.8.24-py36_1001  conda-forge --> 2018.10.15-py36_1000  conda-forge\n",
      "    conda:           4.5.11-py36_0        conda-forge --> 4.5.11-py36_1000      conda-forge\n",
      "    openssl:         1.0.2p-h470a237_0    conda-forge --> 1.0.2p-h470a237_1     conda-forge\n",
      "\n",
      "\n",
      "Downloading and Extracting Packages\n",
      "openssl-1.0.2p       | 3.1 MB    | ##################################### | 100% \n",
      "certifi-2018.10.15   | 138 KB    | ##################################### | 100% \n",
      "geopy-1.17.0         | 49 KB     | ##################################### | 100% \n",
      "ca-certificates-2018 | 135 KB    | ##################################### | 100% \n",
      "conda-4.5.11         | 651 KB    | ##################################### | 100% \n",
      "geographiclib-1.49   | 32 KB     | ##################################### | 100% \n",
      "Preparing transaction: done\n",
      "Verifying transaction: done\n",
      "Executing transaction: done\n"
     ]
    }
   ],
   "source": [
    "# Libraries & Imports\n",
    "# !conda install -c conda-forge beautifulsoup4 --yes\n",
    "!conda install -c conda-forge geopy --yes\n",
    "from bs4 import BeautifulSoup\n",
    "import requests\n",
    "import pandas as pd\n",
    "from geopy.geocoders import Nominatim # convert an address into latitude and longitude values\n",
    "import time"
   ]
  },
  {
   "cell_type": "markdown",
   "metadata": {},
   "source": [
    "### Function to clean neighborhood values"
   ]
  },
  {
   "cell_type": "code",
   "execution_count": 2,
   "metadata": {},
   "outputs": [],
   "source": [
    "# Function to clean the London neighborhood name of extraneous information\n",
    "# e.g. and as in 'Bromley Common and Keston'\n",
    "# e.g. comma as in 'Ham, Petersfield'\n",
    "# e.g. bracket as in 'Aldersgate (incl. Cheap)'\n",
    "def clean_london_name(name):\n",
    "    pos_comma = name.find(',')\n",
    "    pos_and = name.find(' and ')\n",
    "    pos_bracket = name.find('(')\n",
    "    pos_with = name.find(' with ')\n",
    "    pos_amp = name.find(' & ')\n",
    "    if pos_bracket != -1:\n",
    "        pos = pos_bracket\n",
    "    elif pos_and != -1:\n",
    "        pos = pos_and\n",
    "    elif pos_with != -1:\n",
    "        pos = pos_with\n",
    "    elif pos_amp != -1:\n",
    "        pos = pos_amp\n",
    "    elif pos_comma != -1:\n",
    "        pos = pos_comma\n",
    "    else:\n",
    "        pos = len(name)\n",
    "    revised = name[0:pos].strip()\n",
    "    \n",
    "    # some specific substitutions\n",
    "    if revised == 'Holland':\n",
    "        revised = 'Holland Park'\n",
    "    if revised == 'Chelsea Riverside':\n",
    "        revised = 'Chelsea'\n",
    "    if revised == 'Farringdon Within':\n",
    "        revised = 'Farringdon'\n",
    "    \n",
    "    # print('Input: >{}<  Output: >{}<'.format(name, revised))\n",
    "    return revised"
   ]
  },
  {
   "cell_type": "markdown",
   "metadata": {},
   "source": [
    "### Get contents of London web page"
   ]
  },
  {
   "cell_type": "code",
   "execution_count": 3,
   "metadata": {},
   "outputs": [],
   "source": [
    "r  = requests.get(\"https://www.citypopulation.de/php/uk-wards-london.php\")\n",
    "data = r.text\n",
    "soup = BeautifulSoup(data, \"lxml\")"
   ]
  },
  {
   "cell_type": "code",
   "execution_count": 4,
   "metadata": {},
   "outputs": [],
   "source": [
    "def get_ll(address):\n",
    "    time.sleep(1) # wait a second, to conform with Nominatim's terms of use\n",
    "    geolocator = Nominatim(user_agent=\"tommccann\")\n",
    "    location = geolocator.geocode(address)\n",
    "    \n",
    "    # Need a test for location = None here\n",
    "    if location:\n",
    "        latitude = location.latitude\n",
    "        longitude = location.longitude\n",
    "        return([latitude, longitude])\n",
    "    else:\n",
    "        # return -1 values for long and lat to indicate no coordinates returned\n",
    "        return [-1,-1]"
   ]
  },
  {
   "cell_type": "markdown",
   "metadata": {},
   "source": [
    "### Create a DataFrame and add neighborhood coordinates"
   ]
  },
  {
   "cell_type": "code",
   "execution_count": 5,
   "metadata": {},
   "outputs": [
    {
     "data": {
      "text/plain": [
       "(637, 4)"
      ]
     },
     "execution_count": 5,
     "metadata": {},
     "output_type": "execute_result"
    }
   ],
   "source": [
    "# Create the dataframe\n",
    "dfLondon = pd.DataFrame(columns=['Borough', 'Neighborhood', 'Latitude', 'Longitude'])\n",
    "\n",
    "table = soup.find(\"table\", {\"id\" : \"tl\"})\n",
    "\n",
    "table_rows = table.find_all('tr')\n",
    "\n",
    "borough = ''\n",
    "for tr in table_rows:\n",
    "    tds = tr.find_all('td')\n",
    "    row = [td.text.strip() for td in tds]  # strip() removes the newline\n",
    "    if row:  # removes empty row (the table headings)\n",
    "        if row[1] == 'Borough':\n",
    "            borough = row[0]\n",
    "        elif row[1] == 'Ward':\n",
    "            wardname = clean_london_name(row[0])\n",
    "            dfLondon.loc[len(dfLondon)] = [borough, wardname, 0, 0] # dummy values for lat, long for now\n",
    "            \n",
    "# How many valid neighborhoods did we get?\n",
    "dfLondon.shape"
   ]
  },
  {
   "cell_type": "markdown",
   "metadata": {},
   "source": [
    "### Select only valid central London neighborhoods"
   ]
  },
  {
   "cell_type": "code",
   "execution_count": 7,
   "metadata": {},
   "outputs": [
    {
     "data": {
      "text/plain": [
       "(177, 4)"
      ]
     },
     "execution_count": 7,
     "metadata": {},
     "output_type": "execute_result"
    }
   ],
   "source": [
    "# Narrow it down to central London boroughs\n",
    "central_boroughs = pd.Series(['Camden',\n",
    "                            'Greenwich',\n",
    "                            'Hackney'\n",
    "                            'Hammersmith and Fulham',\n",
    "                            'Islington',\n",
    "                            'Kensington and Chelsea',\n",
    "                            'Lambeth',\n",
    "                            'Lewisham',\n",
    "                            'Southwark',\n",
    "                            'Tower Hamlets',\n",
    "                            'Wandsworth',\n",
    "                            'Westminster'])\n",
    "\n",
    "# Create another DataFrame of central London boroughs only \n",
    "dfCentralBoroughs = dfLondon[dfLondon['Borough'].isin(central_boroughs)]\n",
    "                           \n",
    "# How many neighborhoods did we get?\n",
    "dfCentralBoroughs.shape"
   ]
  },
  {
   "cell_type": "markdown",
   "metadata": {},
   "source": [
    "### Get geocordinates for neighborhoods"
   ]
  },
  {
   "cell_type": "code",
   "execution_count": 13,
   "metadata": {},
   "outputs": [
    {
     "data": {
      "text/html": [
       "<div>\n",
       "<style scoped>\n",
       "    .dataframe tbody tr th:only-of-type {\n",
       "        vertical-align: middle;\n",
       "    }\n",
       "\n",
       "    .dataframe tbody tr th {\n",
       "        vertical-align: top;\n",
       "    }\n",
       "\n",
       "    .dataframe thead th {\n",
       "        text-align: right;\n",
       "    }\n",
       "</style>\n",
       "<table border=\"1\" class=\"dataframe\">\n",
       "  <thead>\n",
       "    <tr style=\"text-align: right;\">\n",
       "      <th></th>\n",
       "      <th>Borough</th>\n",
       "      <th>Neighborhood</th>\n",
       "      <th>Latitude</th>\n",
       "      <th>Longitude</th>\n",
       "    </tr>\n",
       "  </thead>\n",
       "  <tbody>\n",
       "    <tr>\n",
       "      <th>102</th>\n",
       "      <td>Camden</td>\n",
       "      <td>Belsize</td>\n",
       "      <td>51.5474</td>\n",
       "      <td>-0.1683</td>\n",
       "    </tr>\n",
       "    <tr>\n",
       "      <th>103</th>\n",
       "      <td>Camden</td>\n",
       "      <td>Bloomsbury</td>\n",
       "      <td>51.5168</td>\n",
       "      <td>-0.125741</td>\n",
       "    </tr>\n",
       "    <tr>\n",
       "      <th>104</th>\n",
       "      <td>Camden</td>\n",
       "      <td>Camden Town</td>\n",
       "      <td>51.5418</td>\n",
       "      <td>-0.139128</td>\n",
       "    </tr>\n",
       "    <tr>\n",
       "      <th>105</th>\n",
       "      <td>Camden</td>\n",
       "      <td>Cantelowes</td>\n",
       "      <td>51.5469</td>\n",
       "      <td>-0.133241</td>\n",
       "    </tr>\n",
       "    <tr>\n",
       "      <th>106</th>\n",
       "      <td>Camden</td>\n",
       "      <td>Fortune Green</td>\n",
       "      <td>51.5546</td>\n",
       "      <td>-0.197622</td>\n",
       "    </tr>\n",
       "  </tbody>\n",
       "</table>\n",
       "</div>"
      ],
      "text/plain": [
       "    Borough   Neighborhood Latitude Longitude\n",
       "102  Camden        Belsize  51.5474   -0.1683\n",
       "103  Camden     Bloomsbury  51.5168 -0.125741\n",
       "104  Camden    Camden Town  51.5418 -0.139128\n",
       "105  Camden     Cantelowes  51.5469 -0.133241\n",
       "106  Camden  Fortune Green  51.5546 -0.197622"
      ]
     },
     "execution_count": 13,
     "metadata": {},
     "output_type": "execute_result"
    }
   ],
   "source": [
    "# Iterate through the central london neighborhoods and store lat, long\n",
    "for index, row in dfCentralBoroughs.iterrows():\n",
    "    address = row['Neighborhood'] + ', London'\n",
    "    [lat, long] = get_ll(address)\n",
    "    if lat != -1 and long != -1: # valid neighborhoods\n",
    "        row['Latitude'] = lat\n",
    "        row['Longitude'] = long\n",
    "        # print('Cordinates found for {}, {} - long:{}, lat:{}'.format(row['Borough'], row['Neighborhood'], long, lat))\n",
    "\n",
    "dfCentralBoroughs.head()"
   ]
  },
  {
   "cell_type": "markdown",
   "metadata": {},
   "source": [
    "### Filter out anything wrongly geocoded as being outside the greater London area"
   ]
  },
  {
   "cell_type": "code",
   "execution_count": 14,
   "metadata": {},
   "outputs": [
    {
     "data": {
      "text/plain": [
       "(150, 4)"
      ]
     },
     "execution_count": 14,
     "metadata": {},
     "output_type": "execute_result"
    }
   ],
   "source": [
    "# Filter out anything that was misclassified outside the London area between 51.63,-0.47 and 51.33,0.13\n",
    "dfCentralLondon = dfCentralBoroughs[(dfCentralBoroughs['Latitude'] > 51.33) & (dfCentralBoroughs['Latitude'] < 51.63)\n",
    "                           & (dfCentralBoroughs['Longitude'] > -0.47) & (dfCentralBoroughs['Longitude'] < 0.13)]\n",
    "\n",
    "# How many do we end up with?\n",
    "dfCentralLondon.shape"
   ]
  },
  {
   "cell_type": "markdown",
   "metadata": {},
   "source": [
    "### Look at the results"
   ]
  },
  {
   "cell_type": "code",
   "execution_count": 15,
   "metadata": {},
   "outputs": [
    {
     "data": {
      "text/html": [
       "<div>\n",
       "<style scoped>\n",
       "    .dataframe tbody tr th:only-of-type {\n",
       "        vertical-align: middle;\n",
       "    }\n",
       "\n",
       "    .dataframe tbody tr th {\n",
       "        vertical-align: top;\n",
       "    }\n",
       "\n",
       "    .dataframe thead th {\n",
       "        text-align: right;\n",
       "    }\n",
       "</style>\n",
       "<table border=\"1\" class=\"dataframe\">\n",
       "  <thead>\n",
       "    <tr style=\"text-align: right;\">\n",
       "      <th></th>\n",
       "      <th>Borough</th>\n",
       "      <th>Neighborhood</th>\n",
       "      <th>Latitude</th>\n",
       "      <th>Longitude</th>\n",
       "    </tr>\n",
       "  </thead>\n",
       "  <tbody>\n",
       "    <tr>\n",
       "      <th>102</th>\n",
       "      <td>Camden</td>\n",
       "      <td>Belsize</td>\n",
       "      <td>51.5474</td>\n",
       "      <td>-0.1683</td>\n",
       "    </tr>\n",
       "    <tr>\n",
       "      <th>103</th>\n",
       "      <td>Camden</td>\n",
       "      <td>Bloomsbury</td>\n",
       "      <td>51.5168</td>\n",
       "      <td>-0.125741</td>\n",
       "    </tr>\n",
       "    <tr>\n",
       "      <th>104</th>\n",
       "      <td>Camden</td>\n",
       "      <td>Camden Town</td>\n",
       "      <td>51.5418</td>\n",
       "      <td>-0.139128</td>\n",
       "    </tr>\n",
       "    <tr>\n",
       "      <th>105</th>\n",
       "      <td>Camden</td>\n",
       "      <td>Cantelowes</td>\n",
       "      <td>51.5469</td>\n",
       "      <td>-0.133241</td>\n",
       "    </tr>\n",
       "    <tr>\n",
       "      <th>106</th>\n",
       "      <td>Camden</td>\n",
       "      <td>Fortune Green</td>\n",
       "      <td>51.5546</td>\n",
       "      <td>-0.197622</td>\n",
       "    </tr>\n",
       "  </tbody>\n",
       "</table>\n",
       "</div>"
      ],
      "text/plain": [
       "    Borough   Neighborhood Latitude Longitude\n",
       "102  Camden        Belsize  51.5474   -0.1683\n",
       "103  Camden     Bloomsbury  51.5168 -0.125741\n",
       "104  Camden    Camden Town  51.5418 -0.139128\n",
       "105  Camden     Cantelowes  51.5469 -0.133241\n",
       "106  Camden  Fortune Green  51.5546 -0.197622"
      ]
     },
     "execution_count": 15,
     "metadata": {},
     "output_type": "execute_result"
    }
   ],
   "source": [
    "dfCentralLondon.head()"
   ]
  },
  {
   "cell_type": "markdown",
   "metadata": {},
   "source": [
    "### Cache the central London neighborhood data in a csv file for use later"
   ]
  },
  {
   "cell_type": "code",
   "execution_count": 16,
   "metadata": {},
   "outputs": [],
   "source": [
    "# Cache the Central London DataFrame\n",
    "dfCentralLondon.to_csv('/resources/data/CentralLondon.csv', columns=['Borough','Neighborhood','Latitude','Longitude'], index=False)"
   ]
  },
  {
   "cell_type": "code",
   "execution_count": null,
   "metadata": {},
   "outputs": [],
   "source": []
  }
 ],
 "metadata": {
  "kernelspec": {
   "display_name": "Python 3",
   "language": "python",
   "name": "python3"
  },
  "language_info": {
   "codemirror_mode": {
    "name": "ipython",
    "version": 3
   },
   "file_extension": ".py",
   "mimetype": "text/x-python",
   "name": "python",
   "nbconvert_exporter": "python",
   "pygments_lexer": "ipython3",
   "version": "3.6.5"
  }
 },
 "nbformat": 4,
 "nbformat_minor": 2
}
