{
    "nbformat_minor": 1, 
    "cells": [
        {
            "source": "# Web Scraping", 
            "cell_type": "markdown", 
            "metadata": {
                "collapsed": true
            }
        }, 
        {
            "source": "### Set up environment - install libraries and imports", 
            "cell_type": "markdown", 
            "metadata": {}
        }, 
        {
            "execution_count": 207, 
            "cell_type": "code", 
            "metadata": {}, 
            "outputs": [], 
            "source": "# !pip install --user beautifulsoup4\n\nfrom bs4 import BeautifulSoup\nimport requests\nimport pandas as pd"
        }, 
        {
            "source": "### Read the webpage and select the table rows", 
            "cell_type": "markdown", 
            "metadata": {}
        }, 
        {
            "execution_count": 208, 
            "cell_type": "code", 
            "metadata": {}, 
            "outputs": [], 
            "source": "r  = requests.get(\"https://en.wikipedia.org/wiki/List_of_postal_codes_of_Canada:_M\")\ndata = r.text\n\nsoup = BeautifulSoup(data, 'lxml')\n\ntable = soup.find(\"table\", {\"class\" : \"wikitable sortable\"})\n\ntable_rows = table.find_all('tr')"
        }, 
        {
            "source": "### Define a function for adding row data to a dictionary", 
            "cell_type": "markdown", 
            "metadata": {}
        }, 
        {
            "execution_count": 209, 
            "cell_type": "code", 
            "metadata": {}, 
            "outputs": [], 
            "source": "# function for adding a row list to the pbn (postalcode-borough-neighbourhood) dictionary\ndef add_to_pbndict(row):\n    p = row[0]\n    b = row[1]\n    n = row[2]\n    \n    if b != 'Not assigned':  # don't add an unassigned borough\n        # Use borough if neighbourhood is 'Not assigned'\n        if n == 'Not assigned':\n            n = b # Use value of borough instead\n            \n        # add or update the dictionary    \n        if p in pbndict:\n            # Postalcode p already in dictionary and will be updated\n            pbndict[p] = {\"Borough\": b, \"Neighbourhood\": pbndict[p]['Neighbourhood'] + \", \" + n}\n        else:\n            # Postalcode p is not in dictionary and will be added\n            pbndict[p] = {\"Borough\": b, \"Neighbourhood\": n}"
        }, 
        {
            "source": "### Add the html table row data to the dictionary", 
            "cell_type": "markdown", 
            "metadata": {}
        }, 
        {
            "execution_count": 210, 
            "cell_type": "code", 
            "metadata": {}, 
            "outputs": [], 
            "source": "# iterate the table rows and add to the pbn (postalcode borough neighbourhood) dictionary\npbndict = {}\n\nfor tr in table_rows:\n    tds = tr.find_all('td')\n    row = [td.text.strip() for td in tds]  # strip() seems to remove the newline\n    if row:  # removes empty row (the table headings)\n        add_to_pbndict(row)"
        }, 
        {
            "source": "### Copy the pbn (postalcode borough neighbourhood) dictionary contents to the DataFrame", 
            "cell_type": "markdown", 
            "metadata": {}
        }, 
        {
            "execution_count": 211, 
            "cell_type": "code", 
            "metadata": {}, 
            "outputs": [], 
            "source": "# Create the datatable\ndf = pd.DataFrame(columns=['PostalCode', 'Borough', 'Neighbourhood'])\n\n# Add the contents of the dictionary\nfor key in pbndict:\n    df.loc[len(df)] = [key, pbndict[key]['Borough'], pbndict[key]['Neighbourhood']]"
        }, 
        {
            "execution_count": 212, 
            "cell_type": "code", 
            "metadata": {}, 
            "outputs": [
                {
                    "execution_count": 212, 
                    "metadata": {}, 
                    "data": {
                        "text/html": "<div>\n<style scoped>\n    .dataframe tbody tr th:only-of-type {\n        vertical-align: middle;\n    }\n\n    .dataframe tbody tr th {\n        vertical-align: top;\n    }\n\n    .dataframe thead th {\n        text-align: right;\n    }\n</style>\n<table border=\"1\" class=\"dataframe\">\n  <thead>\n    <tr style=\"text-align: right;\">\n      <th></th>\n      <th>PostalCode</th>\n      <th>Borough</th>\n      <th>Neighbourhood</th>\n    </tr>\n  </thead>\n  <tbody>\n    <tr>\n      <th>0</th>\n      <td>M9A</td>\n      <td>Etobicoke</td>\n      <td>Islington Avenue</td>\n    </tr>\n    <tr>\n      <th>1</th>\n      <td>M4H</td>\n      <td>East York</td>\n      <td>Thorncliffe Park</td>\n    </tr>\n    <tr>\n      <th>2</th>\n      <td>M9L</td>\n      <td>North York</td>\n      <td>Humber Summit</td>\n    </tr>\n    <tr>\n      <th>3</th>\n      <td>M9W</td>\n      <td>Etobicoke</td>\n      <td>Northwest</td>\n    </tr>\n    <tr>\n      <th>4</th>\n      <td>M5S</td>\n      <td>Downtown Toronto</td>\n      <td>Harbord, University of Toronto</td>\n    </tr>\n  </tbody>\n</table>\n</div>", 
                        "text/plain": "  PostalCode           Borough                   Neighbourhood\n0        M9A         Etobicoke                Islington Avenue\n1        M4H         East York                Thorncliffe Park\n2        M9L        North York                   Humber Summit\n3        M9W         Etobicoke                       Northwest\n4        M5S  Downtown Toronto  Harbord, University of Toronto"
                    }, 
                    "output_type": "execute_result"
                }
            ], 
            "source": "# Display a selection of the DataFrame\ndf.head()"
        }, 
        {
            "source": "### Print the number of rows in the DataFrame", 
            "cell_type": "markdown", 
            "metadata": {}
        }, 
        {
            "execution_count": 213, 
            "cell_type": "code", 
            "metadata": {}, 
            "outputs": [
                {
                    "output_type": "stream", 
                    "name": "stdout", 
                    "text": "There are 103 rows in the DataFrame\n"
                }
            ], 
            "source": "print(\"There are\", df.shape[0], \"rows in the DataFrame\")"
        }, 
        {
            "execution_count": null, 
            "cell_type": "code", 
            "metadata": {}, 
            "outputs": [], 
            "source": ""
        }
    ], 
    "metadata": {
        "kernelspec": {
            "display_name": "Python 3.5 with Spark 2.1", 
            "name": "python3-spark21", 
            "language": "python"
        }, 
        "language_info": {
            "mimetype": "text/x-python", 
            "nbconvert_exporter": "python", 
            "version": "3.5.4", 
            "name": "python", 
            "file_extension": ".py", 
            "pygments_lexer": "ipython3", 
            "codemirror_mode": {
                "version": 3, 
                "name": "ipython"
            }
        }
    }, 
    "nbformat": 4
}