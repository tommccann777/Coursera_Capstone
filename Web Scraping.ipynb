{
    "nbformat_minor": 1, 
    "cells": [
        {
            "source": "# Web Scraping", 
            "cell_type": "markdown", 
            "metadata": {
                "collapsed": true
            }
        }, 
        {
            "source": "### Set up environment - install libraries and imports", 
            "cell_type": "markdown", 
            "metadata": {}
        }, 
        {
            "execution_count": 207, 
            "cell_type": "code", 
            "metadata": {}, 
            "outputs": [], 
            "source": "# !pip install --user beautifulsoup4\n\nfrom bs4 import BeautifulSoup\nimport requests\nimport pandas as pd"
        }, 
        {
            "source": "### Read the webpage and select the table rows", 
            "cell_type": "markdown", 
            "metadata": {}
        }, 
        {
            "execution_count": 208, 
            "cell_type": "code", 
            "metadata": {}, 
            "outputs": [], 
            "source": "r  = requests.get(\"https://en.wikipedia.org/wiki/List_of_postal_codes_of_Canada:_M\")\ndata = r.text\n\nsoup = BeautifulSoup(data, 'lxml')\n\ntable = soup.find(\"table\", {\"class\" : \"wikitable sortable\"})\n\ntable_rows = table.find_all('tr')"
        }, 
        {
            "source": "### Define a function for adding row data to a dictionary", 
            "cell_type": "markdown", 
            "metadata": {}
        }, 
        {
            "execution_count": 209, 
            "cell_type": "code", 
            "metadata": {}, 
            "outputs": [], 
            "source": "# function for adding a row list to the pbn (postalcode-borough-neighbourhood) dictionary\ndef add_to_pbndict(row):\n    p = row[0]\n    b = row[1]\n    n = row[2]\n    \n    if b != 'Not assigned':  # don't add an unassigned borough\n        # Use borough if neighbourhood is 'Not assigned'\n        if n == 'Not assigned':\n            n = b # Use value of borough instead\n            \n        # add or update the dictionary    \n        if p in pbndict:\n            # Postalcode p already in dictionary and will be updated\n            pbndict[p] = {\"Borough\": b, \"Neighbourhood\": pbndict[p]['Neighbourhood'] + \", \" + n}\n        else:\n            # Postalcode p is not in dictionary and will be added\n            pbndict[p] = {\"Borough\": b, \"Neighbourhood\": n}"
        }, 
        {
            "source": "### Add the html table row data to the dictionary", 
            "cell_type": "markdown", 
            "metadata": {}
        }, 
        {
            "execution_count": 210, 
            "cell_type": "code", 
            "metadata": {}, 
            "outputs": [], 
            "source": "# iterate the table rows and add to the pbn (postalcode borough neighbourhood) dictionary\npbndict = {}\n\nfor tr in table_rows:\n    tds = tr.find_all('td')\n    row = [td.text.strip() for td in tds]  # strip() seems to remove the newline\n    if row:  # removes empty row (the table headings)\n        add_to_pbndict(row)"
        }, 
        {
            "source": "### Copy the pbn (postalcode borough neighbourhood) dictionary contents to the DataFrame", 
            "cell_type": "markdown", 
            "metadata": {}
        }, 
        {
            "execution_count": 211, 
            "cell_type": "code", 
            "metadata": {}, 
            "outputs": [], 
            "source": "# Create the datatable\ndf = pd.DataFrame(columns=['PostalCode', 'Borough', 'Neighbourhood'])\n\n# Add the contents of the dictionary\nfor key in pbndict:\n    df.loc[len(df)] = [key, pbndict[key]['Borough'], pbndict[key]['Neighbourhood']]"
        }, 
        {
            "execution_count": 214, 
            "cell_type": "code", 
            "metadata": {}, 
            "outputs": [
                {
                    "execution_count": 214, 
                    "metadata": {}, 
                    "data": {
                        "text/html": "<div>\n<style scoped>\n    .dataframe tbody tr th:only-of-type {\n        vertical-align: middle;\n    }\n\n    .dataframe tbody tr th {\n        vertical-align: top;\n    }\n\n    .dataframe thead th {\n        text-align: right;\n    }\n</style>\n<table border=\"1\" class=\"dataframe\">\n  <thead>\n    <tr style=\"text-align: right;\">\n      <th></th>\n      <th>PostalCode</th>\n      <th>Borough</th>\n      <th>Neighbourhood</th>\n    </tr>\n  </thead>\n  <tbody>\n    <tr>\n      <th>0</th>\n      <td>M9A</td>\n      <td>Etobicoke</td>\n      <td>Islington Avenue</td>\n    </tr>\n    <tr>\n      <th>1</th>\n      <td>M4H</td>\n      <td>East York</td>\n      <td>Thorncliffe Park</td>\n    </tr>\n    <tr>\n      <th>2</th>\n      <td>M9L</td>\n      <td>North York</td>\n      <td>Humber Summit</td>\n    </tr>\n    <tr>\n      <th>3</th>\n      <td>M9W</td>\n      <td>Etobicoke</td>\n      <td>Northwest</td>\n    </tr>\n    <tr>\n      <th>4</th>\n      <td>M5S</td>\n      <td>Downtown Toronto</td>\n      <td>Harbord, University of Toronto</td>\n    </tr>\n    <tr>\n      <th>5</th>\n      <td>M3J</td>\n      <td>North York</td>\n      <td>Northwood Park, York University</td>\n    </tr>\n    <tr>\n      <th>6</th>\n      <td>M2H</td>\n      <td>North York</td>\n      <td>Hillcrest Village</td>\n    </tr>\n    <tr>\n      <th>7</th>\n      <td>M8Y</td>\n      <td>Etobicoke</td>\n      <td>Humber Bay, King's Mill Park, Kingsway Park So...</td>\n    </tr>\n    <tr>\n      <th>8</th>\n      <td>M6C</td>\n      <td>York</td>\n      <td>Humewood-Cedarvale</td>\n    </tr>\n    <tr>\n      <th>9</th>\n      <td>M6L</td>\n      <td>North York</td>\n      <td>Maple Leaf Park, North Park, Upwood Park</td>\n    </tr>\n    <tr>\n      <th>10</th>\n      <td>M3H</td>\n      <td>North York</td>\n      <td>Bathurst Manor, Downsview North, Wilson Heights</td>\n    </tr>\n    <tr>\n      <th>11</th>\n      <td>M7A</td>\n      <td>Queen's Park</td>\n      <td>Queen's Park</td>\n    </tr>\n    <tr>\n      <th>12</th>\n      <td>M6A</td>\n      <td>North York</td>\n      <td>Lawrence Heights, Lawrence Manor</td>\n    </tr>\n    <tr>\n      <th>13</th>\n      <td>M6S</td>\n      <td>West Toronto</td>\n      <td>Runnymede, Swansea</td>\n    </tr>\n    <tr>\n      <th>14</th>\n      <td>M3M</td>\n      <td>North York</td>\n      <td>Downsview Central</td>\n    </tr>\n    <tr>\n      <th>15</th>\n      <td>M3N</td>\n      <td>North York</td>\n      <td>Downsview Northwest</td>\n    </tr>\n    <tr>\n      <th>16</th>\n      <td>M1M</td>\n      <td>Scarborough</td>\n      <td>Cliffcrest, Cliffside, Scarborough Village West</td>\n    </tr>\n    <tr>\n      <th>17</th>\n      <td>M4W</td>\n      <td>Downtown Toronto</td>\n      <td>Rosedale</td>\n    </tr>\n    <tr>\n      <th>18</th>\n      <td>M9R</td>\n      <td>Etobicoke</td>\n      <td>Kingsview Village, Martin Grove Gardens, Richv...</td>\n    </tr>\n    <tr>\n      <th>19</th>\n      <td>M2N</td>\n      <td>North York</td>\n      <td>Willowdale South</td>\n    </tr>\n    <tr>\n      <th>20</th>\n      <td>M9V</td>\n      <td>Etobicoke</td>\n      <td>Albion Gardens, Beaumond Heights, Humbergate, ...</td>\n    </tr>\n    <tr>\n      <th>21</th>\n      <td>M4Y</td>\n      <td>Downtown Toronto</td>\n      <td>Church and Wellesley</td>\n    </tr>\n    <tr>\n      <th>22</th>\n      <td>M5L</td>\n      <td>Downtown Toronto</td>\n      <td>Commerce Court, Victoria Hotel</td>\n    </tr>\n    <tr>\n      <th>23</th>\n      <td>M5A</td>\n      <td>Downtown Toronto</td>\n      <td>Harbourfront, Regent Park</td>\n    </tr>\n    <tr>\n      <th>24</th>\n      <td>M1J</td>\n      <td>Scarborough</td>\n      <td>Scarborough Village</td>\n    </tr>\n    <tr>\n      <th>25</th>\n      <td>M1L</td>\n      <td>Scarborough</td>\n      <td>Clairlea, Golden Mile, Oakridge</td>\n    </tr>\n    <tr>\n      <th>26</th>\n      <td>M4V</td>\n      <td>Central Toronto</td>\n      <td>Deer Park, Forest Hill SE, Rathnelly, South Hi...</td>\n    </tr>\n    <tr>\n      <th>27</th>\n      <td>M1K</td>\n      <td>Scarborough</td>\n      <td>East Birchmount Park, Ionview, Kennedy Park</td>\n    </tr>\n    <tr>\n      <th>28</th>\n      <td>M8X</td>\n      <td>Etobicoke</td>\n      <td>The Kingsway, Montgomery Road, Old Mill North</td>\n    </tr>\n    <tr>\n      <th>29</th>\n      <td>M4C</td>\n      <td>East York</td>\n      <td>Woodbine Heights</td>\n    </tr>\n    <tr>\n      <th>...</th>\n      <td>...</td>\n      <td>...</td>\n      <td>...</td>\n    </tr>\n    <tr>\n      <th>73</th>\n      <td>M3L</td>\n      <td>North York</td>\n      <td>Downsview West</td>\n    </tr>\n    <tr>\n      <th>74</th>\n      <td>M6K</td>\n      <td>West Toronto</td>\n      <td>Brockton, Exhibition Place, Parkdale Village</td>\n    </tr>\n    <tr>\n      <th>75</th>\n      <td>M1C</td>\n      <td>Scarborough</td>\n      <td>Highland Creek, Rouge Hill, Port Union</td>\n    </tr>\n    <tr>\n      <th>76</th>\n      <td>M6P</td>\n      <td>West Toronto</td>\n      <td>High Park, The Junction South</td>\n    </tr>\n    <tr>\n      <th>77</th>\n      <td>M1R</td>\n      <td>Scarborough</td>\n      <td>Maryvale, Wexford</td>\n    </tr>\n    <tr>\n      <th>78</th>\n      <td>M3A</td>\n      <td>North York</td>\n      <td>Parkwoods</td>\n    </tr>\n    <tr>\n      <th>79</th>\n      <td>M1V</td>\n      <td>Scarborough</td>\n      <td>Agincourt North, L'Amoreaux East, Milliken, St...</td>\n    </tr>\n    <tr>\n      <th>80</th>\n      <td>M1G</td>\n      <td>Scarborough</td>\n      <td>Woburn</td>\n    </tr>\n    <tr>\n      <th>81</th>\n      <td>M9P</td>\n      <td>Etobicoke</td>\n      <td>Westmount</td>\n    </tr>\n    <tr>\n      <th>82</th>\n      <td>M2R</td>\n      <td>North York</td>\n      <td>Willowdale West</td>\n    </tr>\n    <tr>\n      <th>83</th>\n      <td>M2P</td>\n      <td>North York</td>\n      <td>York Mills West</td>\n    </tr>\n    <tr>\n      <th>84</th>\n      <td>M1N</td>\n      <td>Scarborough</td>\n      <td>Birch Cliff, Cliffside West</td>\n    </tr>\n    <tr>\n      <th>85</th>\n      <td>M1S</td>\n      <td>Scarborough</td>\n      <td>Agincourt</td>\n    </tr>\n    <tr>\n      <th>86</th>\n      <td>M9B</td>\n      <td>Etobicoke</td>\n      <td>Cloverdale, Islington, Martin Grove, Princess ...</td>\n    </tr>\n    <tr>\n      <th>87</th>\n      <td>M6J</td>\n      <td>West Toronto</td>\n      <td>Little Portugal, Trinity</td>\n    </tr>\n    <tr>\n      <th>88</th>\n      <td>M8Z</td>\n      <td>Etobicoke</td>\n      <td>Kingsway Park South West, Mimico NW, The Queen...</td>\n    </tr>\n    <tr>\n      <th>89</th>\n      <td>M5N</td>\n      <td>Central Toronto</td>\n      <td>Roselawn</td>\n    </tr>\n    <tr>\n      <th>90</th>\n      <td>M6G</td>\n      <td>Downtown Toronto</td>\n      <td>Christie</td>\n    </tr>\n    <tr>\n      <th>91</th>\n      <td>M1X</td>\n      <td>Scarborough</td>\n      <td>Upper Rouge</td>\n    </tr>\n    <tr>\n      <th>92</th>\n      <td>M3C</td>\n      <td>North York</td>\n      <td>Flemingdon Park, Don Mills South</td>\n    </tr>\n    <tr>\n      <th>93</th>\n      <td>M6B</td>\n      <td>North York</td>\n      <td>Glencairn</td>\n    </tr>\n    <tr>\n      <th>94</th>\n      <td>M6E</td>\n      <td>York</td>\n      <td>Caledonia-Fairbanks</td>\n    </tr>\n    <tr>\n      <th>95</th>\n      <td>M1E</td>\n      <td>Scarborough</td>\n      <td>Guildwood, Morningside, West Hill</td>\n    </tr>\n    <tr>\n      <th>96</th>\n      <td>M1H</td>\n      <td>Scarborough</td>\n      <td>Cedarbrae</td>\n    </tr>\n    <tr>\n      <th>97</th>\n      <td>M5G</td>\n      <td>Downtown Toronto</td>\n      <td>Central Bay Street</td>\n    </tr>\n    <tr>\n      <th>98</th>\n      <td>M5H</td>\n      <td>Downtown Toronto</td>\n      <td>Adelaide, King, Richmond</td>\n    </tr>\n    <tr>\n      <th>99</th>\n      <td>M9M</td>\n      <td>North York</td>\n      <td>Emery, Humberlea</td>\n    </tr>\n    <tr>\n      <th>100</th>\n      <td>M1P</td>\n      <td>Scarborough</td>\n      <td>Dorset Park, Scarborough Town Centre, Wexford ...</td>\n    </tr>\n    <tr>\n      <th>101</th>\n      <td>M4G</td>\n      <td>East York</td>\n      <td>Leaside</td>\n    </tr>\n    <tr>\n      <th>102</th>\n      <td>M8W</td>\n      <td>Etobicoke</td>\n      <td>Alderwood, Long Branch</td>\n    </tr>\n  </tbody>\n</table>\n<p>103 rows \u00d7 3 columns</p>\n</div>", 
                        "text/plain": "    PostalCode           Borough  \\\n0          M9A         Etobicoke   \n1          M4H         East York   \n2          M9L        North York   \n3          M9W         Etobicoke   \n4          M5S  Downtown Toronto   \n5          M3J        North York   \n6          M2H        North York   \n7          M8Y         Etobicoke   \n8          M6C              York   \n9          M6L        North York   \n10         M3H        North York   \n11         M7A      Queen's Park   \n12         M6A        North York   \n13         M6S      West Toronto   \n14         M3M        North York   \n15         M3N        North York   \n16         M1M       Scarborough   \n17         M4W  Downtown Toronto   \n18         M9R         Etobicoke   \n19         M2N        North York   \n20         M9V         Etobicoke   \n21         M4Y  Downtown Toronto   \n22         M5L  Downtown Toronto   \n23         M5A  Downtown Toronto   \n24         M1J       Scarborough   \n25         M1L       Scarborough   \n26         M4V   Central Toronto   \n27         M1K       Scarborough   \n28         M8X         Etobicoke   \n29         M4C         East York   \n..         ...               ...   \n73         M3L        North York   \n74         M6K      West Toronto   \n75         M1C       Scarborough   \n76         M6P      West Toronto   \n77         M1R       Scarborough   \n78         M3A        North York   \n79         M1V       Scarborough   \n80         M1G       Scarborough   \n81         M9P         Etobicoke   \n82         M2R        North York   \n83         M2P        North York   \n84         M1N       Scarborough   \n85         M1S       Scarborough   \n86         M9B         Etobicoke   \n87         M6J      West Toronto   \n88         M8Z         Etobicoke   \n89         M5N   Central Toronto   \n90         M6G  Downtown Toronto   \n91         M1X       Scarborough   \n92         M3C        North York   \n93         M6B        North York   \n94         M6E              York   \n95         M1E       Scarborough   \n96         M1H       Scarborough   \n97         M5G  Downtown Toronto   \n98         M5H  Downtown Toronto   \n99         M9M        North York   \n100        M1P       Scarborough   \n101        M4G         East York   \n102        M8W         Etobicoke   \n\n                                         Neighbourhood  \n0                                     Islington Avenue  \n1                                     Thorncliffe Park  \n2                                        Humber Summit  \n3                                            Northwest  \n4                       Harbord, University of Toronto  \n5                      Northwood Park, York University  \n6                                    Hillcrest Village  \n7    Humber Bay, King's Mill Park, Kingsway Park So...  \n8                                   Humewood-Cedarvale  \n9             Maple Leaf Park, North Park, Upwood Park  \n10     Bathurst Manor, Downsview North, Wilson Heights  \n11                                        Queen's Park  \n12                    Lawrence Heights, Lawrence Manor  \n13                                  Runnymede, Swansea  \n14                                   Downsview Central  \n15                                 Downsview Northwest  \n16     Cliffcrest, Cliffside, Scarborough Village West  \n17                                            Rosedale  \n18   Kingsview Village, Martin Grove Gardens, Richv...  \n19                                    Willowdale South  \n20   Albion Gardens, Beaumond Heights, Humbergate, ...  \n21                                Church and Wellesley  \n22                      Commerce Court, Victoria Hotel  \n23                           Harbourfront, Regent Park  \n24                                 Scarborough Village  \n25                     Clairlea, Golden Mile, Oakridge  \n26   Deer Park, Forest Hill SE, Rathnelly, South Hi...  \n27         East Birchmount Park, Ionview, Kennedy Park  \n28       The Kingsway, Montgomery Road, Old Mill North  \n29                                    Woodbine Heights  \n..                                                 ...  \n73                                      Downsview West  \n74        Brockton, Exhibition Place, Parkdale Village  \n75              Highland Creek, Rouge Hill, Port Union  \n76                       High Park, The Junction South  \n77                                   Maryvale, Wexford  \n78                                           Parkwoods  \n79   Agincourt North, L'Amoreaux East, Milliken, St...  \n80                                              Woburn  \n81                                           Westmount  \n82                                     Willowdale West  \n83                                     York Mills West  \n84                         Birch Cliff, Cliffside West  \n85                                           Agincourt  \n86   Cloverdale, Islington, Martin Grove, Princess ...  \n87                            Little Portugal, Trinity  \n88   Kingsway Park South West, Mimico NW, The Queen...  \n89                                            Roselawn  \n90                                            Christie  \n91                                         Upper Rouge  \n92                    Flemingdon Park, Don Mills South  \n93                                           Glencairn  \n94                                 Caledonia-Fairbanks  \n95                   Guildwood, Morningside, West Hill  \n96                                           Cedarbrae  \n97                                  Central Bay Street  \n98                            Adelaide, King, Richmond  \n99                                    Emery, Humberlea  \n100  Dorset Park, Scarborough Town Centre, Wexford ...  \n101                                            Leaside  \n102                             Alderwood, Long Branch  \n\n[103 rows x 3 columns]"
                    }, 
                    "output_type": "execute_result"
                }
            ], 
            "source": "# Display the DataFrame\ndf"
        }, 
        {
            "source": "### Print the number of rows in the DataFrame", 
            "cell_type": "markdown", 
            "metadata": {}
        }, 
        {
            "execution_count": 213, 
            "cell_type": "code", 
            "metadata": {}, 
            "outputs": [
                {
                    "output_type": "stream", 
                    "name": "stdout", 
                    "text": "There are 103 rows in the DataFrame\n"
                }
            ], 
            "source": "print(\"There are\", df.shape[0], \"rows in the DataFrame\")"
        }, 
        {
            "execution_count": null, 
            "cell_type": "code", 
            "metadata": {}, 
            "outputs": [], 
            "source": ""
        }
    ], 
    "metadata": {
        "kernelspec": {
            "display_name": "Python 3.5 with Spark 2.1", 
            "name": "python3-spark21", 
            "language": "python"
        }, 
        "language_info": {
            "mimetype": "text/x-python", 
            "nbconvert_exporter": "python", 
            "version": "3.5.4", 
            "name": "python", 
            "file_extension": ".py", 
            "pygments_lexer": "ipython3", 
            "codemirror_mode": {
                "version": 3, 
                "name": "ipython"
            }
        }
    }, 
    "nbformat": 4
}